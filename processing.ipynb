{
 "cells": [
  {
   "cell_type": "code",
   "execution_count": 150,
   "id": "632d6688-b083-4908-85e5-7ee530a0b0a4",
   "metadata": {
    "tags": []
   },
   "outputs": [],
   "source": [
    "import pandas as pd\n",
    "import numpy as np\n",
    "import zipfile\n",
    "from veryfi import Client\n",
    "import textdistance\n",
    "import re\n",
    "import pickle"
   ]
  },
  {
   "cell_type": "code",
   "execution_count": 24,
   "id": "f3a829ce-5690-4361-97d3-b0383e668fc9",
   "metadata": {
    "tags": []
   },
   "outputs": [],
   "source": [
    "#import zipfile\n",
    "#with zipfile.ZipFile(\"documents_to_process.zip\",\"r\") as zip_ref:\n",
    "#    zip_ref.extractall(\"unzippedDocs\")"
   ]
  },
  {
   "cell_type": "code",
   "execution_count": 4,
   "id": "832e7b96-4fd0-4489-86da-ada651a9a4b4",
   "metadata": {
    "tags": []
   },
   "outputs": [],
   "source": [
    "#list_files = ['0001431487.jpg', '0060027768.jpg','0060027778.jpg','0060068160.jpg']\n",
    "\n",
    "\n",
    "zip_file_path = 'documents_to_process.zip'\n",
    "\n",
    "client_id = ''\n",
    "client_secret = ''\n",
    "username = ''\n",
    "api_key = ''\n",
    "\n",
    "veryfi_client = Client(client_id, client_secret, username, api_key)\n",
    "response = veryfi_client.process_document(zip_file_path)"
   ]
  },
  {
   "cell_type": "code",
   "execution_count": 25,
   "id": "a15e4b31-fab9-41e7-b335-3e198001339d",
   "metadata": {
    "tags": []
   },
   "outputs": [],
   "source": [
    "#responce2=[]\n",
    "#for i in list_files:\n",
    "#    responce2.append(veryfi_client.process_document('unzippedDocs/'+i))"
   ]
  },
  {
   "cell_type": "code",
   "execution_count": 17,
   "id": "a9dc0f41-adcb-41cc-8be3-89128ed8d488",
   "metadata": {
    "tags": []
   },
   "outputs": [],
   "source": [
    "docs=response['ocr_text'].split('\\x0c')"
   ]
  },
  {
   "cell_type": "code",
   "execution_count": 40,
   "id": "0a215bd3-1824-42b6-8c6a-355fd82f6d82",
   "metadata": {
    "tags": []
   },
   "outputs": [],
   "source": [
    "counter=0\n",
    "for i in docs:\n",
    "    t=i.split('\\n')\n",
    "    t=[j.split('\\t') for j in t]\n",
    "    docs[counter]=t\n",
    "    counter+=1"
   ]
  },
  {
   "cell_type": "code",
   "execution_count": 151,
   "id": "ac69564e-792e-42ad-be92-b9ab7c2a5f2f",
   "metadata": {},
   "outputs": [],
   "source": [
    "#with open('processedDocs.pkl','wb') as file:\n",
    "#    pickle.dump(docs,file)"
   ]
  },
  {
   "cell_type": "code",
   "execution_count": 153,
   "id": "d3aac581-012d-4b71-8729-c964e5507b74",
   "metadata": {},
   "outputs": [],
   "source": [
    "with open('processedDocs.pkl', 'rb') as f:\n",
    "    docs = pickle.load(f)"
   ]
  },
  {
   "cell_type": "code",
   "execution_count": 117,
   "id": "370c88de-da7b-4f9a-8362-f113703481df",
   "metadata": {},
   "outputs": [],
   "source": [
    "#sup1: Kw1 in invoice\n",
    "#sup2: name in caps and without numbers\n",
    "\n",
    "def findKwLoc(kw,doc,sensibility=3):\n",
    "    pi=0\n",
    "    for i in doc:\n",
    "\n",
    "        pj=0\n",
    "        for j in i:\n",
    "            dst=textdistance.damerau_levenshtein.distance(kw,j)\n",
    "            \n",
    "            if dst<sensibility:\n",
    "                location=(pi,pj)\n",
    "                return(location)\n",
    "            pj+=1\n",
    "        pi+=1\n",
    "    "
   ]
  },
  {
   "cell_type": "code",
   "execution_count": 118,
   "id": "6a98ba63-99bd-4724-9617-60d58fe4e25a",
   "metadata": {},
   "outputs": [],
   "source": [
    "def has_numbers(inputString):\n",
    "    return bool(re.search(r'\\d', inputString))\n",
    "\n",
    "def has_lowercase(inputString):\n",
    "    return bool(re.search(r'[a-z]', inputString))\n"
   ]
  },
  {
   "cell_type": "code",
   "execution_count": 119,
   "id": "73d1de93-44fa-403b-b553-3469abeb7be3",
   "metadata": {},
   "outputs": [],
   "source": [
    "kw1='BILLING INSTRUCTIONS MAL YOUR INVOICES IN DUPLICATE TO CONSIGNEE'"
   ]
  },
  {
   "cell_type": "code",
   "execution_count": 120,
   "id": "e731e0a0-07b1-44b1-b336-7637fd5c55e8",
   "metadata": {},
   "outputs": [],
   "source": [
    "vendor_names=[]\n",
    "for i in docs:\n",
    "    poss=findKwLoc(kw1,i,3)\n",
    "    if poss==None:\n",
    "        vendor_names.append(-1)\n",
    "        continue\n",
    "    options=[j[0] for j in i[0:poss[0]]]\n",
    "    boli=[not (has_numbers(j) or has_lowercase(j) or j=='') for j in options]\n",
    "    options=list(np.array(options)[boli])\n",
    "    vendor_names.append(' '.join(options))\n",
    "    \n",
    "    \n",
    "    "
   ]
  },
  {
   "cell_type": "code",
   "execution_count": 121,
   "id": "fe00ff8f-8b81-4229-95ab-5693fc53cc8f",
   "metadata": {},
   "outputs": [
    {
     "data": {
      "text/plain": [
       "['THE AMERICAN TOBACCO COMPANY',\n",
       " 'THE AMERICAN TOBACCO COMPANY',\n",
       " 'THE AMERICAN TOBACCO COMPANY',\n",
       " 'THE AMERICAN TOBACCO COMPANY']"
      ]
     },
     "execution_count": 121,
     "metadata": {},
     "output_type": "execute_result"
    }
   ],
   "source": [
    "vendor_names"
   ]
  },
  {
   "cell_type": "code",
   "execution_count": 123,
   "id": "3e7132cb-21ea-415a-a6bf-7f38a5ea2f7e",
   "metadata": {},
   "outputs": [],
   "source": [
    "kw2='AS SHOWN BELOW'\n",
    "kw3='SHIPMENT TO ARRIVE NOT LATER THAN'"
   ]
  },
  {
   "cell_type": "code",
   "execution_count": 138,
   "id": "7f1af03d-751e-4325-9952-c8799cad5ff7",
   "metadata": {},
   "outputs": [],
   "source": [
    "#sup3: Kw2 in invoice\n",
    "#sup4: Kw3 in invoice\n",
    "#sup5: \"TO:\" not in shipping details \n",
    "#sup6: shipping details has more than 3 lines\n",
    "\n",
    "shippinngDeets=[]\n",
    "for i in docs:\n",
    "    poss1=list(findKwLoc(kw2,i,3))\n",
    "    poss2=list(findKwLoc(kw3,i,3))\n",
    "    if poss1==None or poss2==None:\n",
    "        shippinngDeets.append(-1)\n",
    "        continue\n",
    "    poss1[0]=poss1[0]+2\n",
    "    poss2[0]=poss2[0]-1\n",
    "    \n",
    "    shippinngDeets.append(i[poss1[0]:poss2[0]])"
   ]
  },
  {
   "cell_type": "code",
   "execution_count": 146,
   "id": "79a8f9e2-1c93-476c-a8fd-fe4194d26d4b",
   "metadata": {},
   "outputs": [],
   "source": [
    "# use TO: to further delimit the search\n",
    "for i in range(len(shippinngDeets)):\n",
    "    frst3=shippinngDeets[i][0:3]\n",
    "    frst3=[' '.join(j) for j in frst3]\n",
    "    counter=0\n",
    "    index=-1\n",
    "    for j in frst3:\n",
    "        if 'TO:' in j:\n",
    "            index=counter\n",
    "        counter+=1\n",
    "    if index==-1:\n",
    "        continue\n",
    "    [shippinngDeets[i].pop(0) for k in range(index+1)]"
   ]
  },
  {
   "cell_type": "code",
   "execution_count": 147,
   "id": "241cc122-643a-41ce-83b9-090b7ed4f9f7",
   "metadata": {},
   "outputs": [
    {
     "data": {
      "text/plain": [
       "[[['EDEN JEWELRY CO., INC.', '', 'H THE FULFILLMENT HOUSE'],\n",
       "  ['212 Highlawn Avenue', '', '', '7 Midland Avenue'],\n",
       "  ['Brooklyn, NY 11223', '', 'P', 'Hicksville, NY', '11801'],\n",
       "  ['ATTN: Mr. Dennis Flyer.', '', 'ATTN: Mr. Bob Pollack']],\n",
       " [['U', 'MACNAUGHTON EINSON GRAPHICS', 'AS PER ATTACHED INSTRUCTIONS'],\n",
       "  ['Twenty-Ten Maple Avenue', '', 'Balance To Be Held In Inventory'],\n",
       "  ['P'],\n",
       "  ['Fairlawn, NJ 07410', '', 'P'],\n",
       "  ['ATTN: Mr. Denis Sullivan'],\n",
       "  ['', 'T'],\n",
       "  ['', '0']],\n",
       " [['U', 'ARISTON,', 'INCORPORATED', '', '$', 'AS PER ATTACHED INSTRUCTIONS'],\n",
       "  ['485 Bloy Street', '', '', 'Balance To Be Held In Inventory'],\n",
       "  ['P', 'Hillside, NJ', '07205'],\n",
       "  ['L'],\n",
       "  ['ATTN: Mr. Warren Katz'],\n",
       "  ['T'],\n",
       "  ['E']],\n",
       " [['Kubin-icholson', '', '', 'Per Shipping Instructions,'],\n",
       "  ['Atta: Mr. 2. L. Gillon', '', 'Attached'],\n",
       "  ['60 East 42nd Street'],\n",
       "  ['New York, NY 10017'],\n",
       "  ['1']]]"
      ]
     },
     "execution_count": 147,
     "metadata": {},
     "output_type": "execute_result"
    }
   ],
   "source": [
    "shippinngDeets"
   ]
  },
  {
   "cell_type": "code",
   "execution_count": null,
   "id": "76138538-1661-4a9e-b5d9-b124889673e2",
   "metadata": {},
   "outputs": [],
   "source": []
  }
 ],
 "metadata": {
  "kernelspec": {
   "display_name": "Python 3 (ipykernel)",
   "language": "python",
   "name": "python3"
  },
  "language_info": {
   "codemirror_mode": {
    "name": "ipython",
    "version": 3
   },
   "file_extension": ".py",
   "mimetype": "text/x-python",
   "name": "python",
   "nbconvert_exporter": "python",
   "pygments_lexer": "ipython3",
   "version": "3.9.13"
  }
 },
 "nbformat": 4,
 "nbformat_minor": 5
}
