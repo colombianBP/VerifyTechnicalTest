{
 "cells": [
  {
   "cell_type": "code",
   "execution_count": 65,
   "id": "632d6688-b083-4908-85e5-7ee530a0b0a4",
   "metadata": {
    "tags": []
   },
   "outputs": [],
   "source": [
    "import pandas as pd\n",
    "import numpy as np\n",
    "import zipfile\n",
    "import textdistance\n",
    "import re\n",
    "import pickle\n",
    "from veryfi import Client\n",
    "from itertools import chain"
   ]
  },
  {
   "cell_type": "code",
   "execution_count": 24,
   "id": "f3a829ce-5690-4361-97d3-b0383e668fc9",
   "metadata": {
    "tags": []
   },
   "outputs": [],
   "source": [
    "#import zipfile\n",
    "#with zipfile.ZipFile(\"documents_to_process.zip\",\"r\") as zip_ref:\n",
    "#    zip_ref.extractall(\"unzippedDocs\")"
   ]
  },
  {
   "cell_type": "code",
   "execution_count": 4,
   "id": "832e7b96-4fd0-4489-86da-ada651a9a4b4",
   "metadata": {
    "tags": []
   },
   "outputs": [],
   "source": [
    "#list_files = ['0001431487.jpg', '0060027768.jpg','0060027778.jpg','0060068160.jpg']\n",
    "\n",
    "\n",
    "zip_file_path = 'documents_to_process.zip'\n",
    "\n",
    "client_id = ''\n",
    "client_secret = ''\n",
    "username = ''\n",
    "api_key = ''\n",
    "\n",
    "veryfi_client = Client(client_id, client_secret, username, api_key)\n",
    "response = veryfi_client.process_document(zip_file_path)"
   ]
  },
  {
   "cell_type": "code",
   "execution_count": 25,
   "id": "a15e4b31-fab9-41e7-b335-3e198001339d",
   "metadata": {
    "tags": []
   },
   "outputs": [],
   "source": [
    "#responce2=[]\n",
    "#for i in list_files:\n",
    "#    responce2.append(veryfi_client.process_document('unzippedDocs/'+i))"
   ]
  },
  {
   "cell_type": "code",
   "execution_count": 17,
   "id": "a9dc0f41-adcb-41cc-8be3-89128ed8d488",
   "metadata": {
    "tags": []
   },
   "outputs": [],
   "source": [
    "docs=response['ocr_text'].split('\\x0c')"
   ]
  },
  {
   "cell_type": "code",
   "execution_count": 40,
   "id": "0a215bd3-1824-42b6-8c6a-355fd82f6d82",
   "metadata": {
    "tags": []
   },
   "outputs": [],
   "source": [
    "counter=0\n",
    "for i in docs:\n",
    "    t=i.split('\\n')\n",
    "    t=[j.split('\\t') for j in t]\n",
    "    docs[counter]=t\n",
    "    counter+=1"
   ]
  },
  {
   "cell_type": "code",
   "execution_count": 151,
   "id": "ac69564e-792e-42ad-be92-b9ab7c2a5f2f",
   "metadata": {},
   "outputs": [],
   "source": [
    "#with open('processedDocs.pkl','wb') as file:\n",
    "#    pickle.dump(docs,file)"
   ]
  },
  {
   "cell_type": "code",
   "execution_count": 246,
   "id": "d3aac581-012d-4b71-8729-c964e5507b74",
   "metadata": {},
   "outputs": [],
   "source": [
    "with open('processedDocs.pkl', 'rb') as f:\n",
    "    docs = pickle.load(f)"
   ]
  },
  {
   "cell_type": "code",
   "execution_count": 247,
   "id": "370c88de-da7b-4f9a-8362-f113703481df",
   "metadata": {},
   "outputs": [],
   "source": [
    "#sup1: Kw1 in invoice\n",
    "#sup2: name in caps and without numbers\n",
    "\n",
    "def findKwLoc(kw,doc,sensibility=3):\n",
    "    pi=0\n",
    "    for i in doc:\n",
    "\n",
    "        pj=0\n",
    "        for j in i:\n",
    "            dst=textdistance.damerau_levenshtein.distance(kw,j)\n",
    "            \n",
    "            if dst<sensibility:\n",
    "                location=(pi,pj)\n",
    "                return(location)\n",
    "            pj+=1\n",
    "        pi+=1\n",
    "    "
   ]
  },
  {
   "cell_type": "code",
   "execution_count": 248,
   "id": "6a98ba63-99bd-4724-9617-60d58fe4e25a",
   "metadata": {},
   "outputs": [],
   "source": [
    "def has_numbers(inputString):\n",
    "    return bool(re.search(r'\\d', inputString))\n",
    "\n",
    "def has_lowercase(inputString):\n",
    "    return bool(re.search(r'[a-z]', inputString))\n"
   ]
  },
  {
   "cell_type": "code",
   "execution_count": 249,
   "id": "73d1de93-44fa-403b-b553-3469abeb7be3",
   "metadata": {},
   "outputs": [],
   "source": [
    "kw1='BILLING INSTRUCTIONS MAL YOUR INVOICES IN DUPLICATE TO CONSIGNEE'"
   ]
  },
  {
   "cell_type": "code",
   "execution_count": 250,
   "id": "e731e0a0-07b1-44b1-b336-7637fd5c55e8",
   "metadata": {},
   "outputs": [],
   "source": [
    "vendor_names=[]\n",
    "for i in docs:\n",
    "    poss=findKwLoc(kw1,i,3)\n",
    "    if poss==None:\n",
    "        vendor_names.append(-1)\n",
    "        continue\n",
    "    options=[j[0] for j in i[0:poss[0]]]\n",
    "    boli=[not (has_numbers(j) or has_lowercase(j) or j=='') for j in options]\n",
    "    options=list(np.array(options)[boli])\n",
    "    vendor_names.append(' '.join(options))\n",
    "    \n",
    "    \n",
    "    "
   ]
  },
  {
   "cell_type": "code",
   "execution_count": 251,
   "id": "3e7132cb-21ea-415a-a6bf-7f38a5ea2f7e",
   "metadata": {},
   "outputs": [],
   "source": [
    "kw2='AS SHOWN BELOW'\n",
    "kw3='SHIPMENT TO ARRIVE NOT LATER THAN'"
   ]
  },
  {
   "cell_type": "code",
   "execution_count": 252,
   "id": "7f1af03d-751e-4325-9952-c8799cad5ff7",
   "metadata": {},
   "outputs": [],
   "source": [
    "#sup3: Kw2 in invoice\n",
    "#sup4: Kw3 in invoice\n",
    "#sup5: \"TO:\" not in shipping details \n",
    "#sup6: shipping details has more than 3 lines\n",
    "\n",
    "shippinngDeets=[]\n",
    "for i in docs:\n",
    "    poss1=list(findKwLoc(kw2,i,3))\n",
    "    poss2=list(findKwLoc(kw3,i,3))\n",
    "    if poss1==None or poss2==None:\n",
    "        shippinngDeets.append(-1)\n",
    "        continue\n",
    "    poss1[0]=poss1[0]+2\n",
    "    poss2[0]=poss2[0]-1\n",
    "    \n",
    "    shippinngDeets.append(i[poss1[0]:poss2[0]])"
   ]
  },
  {
   "cell_type": "code",
   "execution_count": 253,
   "id": "79a8f9e2-1c93-476c-a8fd-fe4194d26d4b",
   "metadata": {},
   "outputs": [],
   "source": [
    "# use TO: to further delimit the search\n",
    "for i in range(len(shippinngDeets)):\n",
    "    frst3=shippinngDeets[i][0:3]\n",
    "    frst3=[' '.join(j) for j in frst3]\n",
    "    counter=0\n",
    "    index=-1\n",
    "    for j in frst3:\n",
    "        if 'TO:' in j:\n",
    "            index=counter\n",
    "        counter+=1\n",
    "    if index==-1:\n",
    "        continue\n",
    "    [shippinngDeets[i].pop(0) for k in range(index+1)]"
   ]
  },
  {
   "cell_type": "code",
   "execution_count": 254,
   "id": "1e8ff771-0f35-41ca-bc4d-172c4f68a800",
   "metadata": {},
   "outputs": [],
   "source": [
    "#sup7: Shipping details are not included if kw 'ATTACH' is included in the description\n",
    "#\n",
    "kw4='ATTACH'"
   ]
  },
  {
   "cell_type": "code",
   "execution_count": 255,
   "id": "76138538-1661-4a9e-b5d9-b124889673e2",
   "metadata": {},
   "outputs": [],
   "source": [
    "def isattached(doc):\n",
    "    for i in doc:\n",
    "        for j in i:\n",
    "            if kw4 in j.upper():\n",
    "                return(True)\n",
    "    return(False)"
   ]
  },
  {
   "cell_type": "code",
   "execution_count": 256,
   "id": "b7d00852-9fea-4d5b-aa1e-638aca70c92a",
   "metadata": {},
   "outputs": [],
   "source": [
    "#sup 8: shipping details has at least one line\n",
    "\n",
    "def breakShipping(doc):\n",
    "    attached=isattached(doc)\n",
    "    counter=0\n",
    "    bills=[]\n",
    "    ships=[]\n",
    "    for i in doc:\n",
    "        if sum([len(j) for j in i])<2:\n",
    "            continue\n",
    "        \n",
    "        if '' in i:\n",
    "            bill=i[0:i.index('')]\n",
    "            ship=i[i.index(''):]\n",
    "        elif counter!=0 and not attached:\n",
    "            if len(i)%2==0:\n",
    "                bill=i[0:int(len(i)/2)]\n",
    "                ship=i[int(len(i)/2):]\n",
    "            else:\n",
    "                bill=i[0:int((len(i)-1)/2)]\n",
    "                ship=i[int((len(i)+1)/2):]\n",
    "        elif counter==0 and attached:\n",
    "            ship=i[-1]\n",
    "            bill=i[0:-1]\n",
    "        else:\n",
    "            ship=['']\n",
    "            bill=i\n",
    "        ships.append(ship)\n",
    "        bills.append(bill)\n",
    "        counter+=1\n",
    "    return([bills,ships,attached])"
   ]
  },
  {
   "cell_type": "code",
   "execution_count": 257,
   "id": "1a6add04-4b16-4503-8187-8d0de3a8c5be",
   "metadata": {},
   "outputs": [],
   "source": [
    "def giveshipping(doc):\n",
    "    breaked=breakShipping(doc)\n",
    "    billname=' '.join(breaked[0][0])\n",
    "    billname=billname.replace('  ',' ')\n",
    "    billadd=list(chain(*breaked[0][1:]))\n",
    "    billadd=' '.join(billadd)\n",
    "    billadd=billadd.replace('  ',' ')\n",
    "    if breaked[2]:\n",
    "        shipname='ATTACHED'\n",
    "        shipadd='ATTACHED'\n",
    "    else:\n",
    "        shipname=' '.join(breaked[1][0])\n",
    "        shipname=shipname.replace('  ',' ')\n",
    "        shipadd=list(chain(*breaked[1][1:]))\n",
    "        shipadd=' '.join(shipadd)\n",
    "        shipadd=shipadd.replace('  ',' ')\n",
    "    return(billname, billadd, shipname, shipadd)"
   ]
  },
  {
   "cell_type": "code",
   "execution_count": 258,
   "id": "290abbc8-bc83-4c62-80c8-d7323ee5e055",
   "metadata": {},
   "outputs": [],
   "source": [
    "bill_to_names=[]\n",
    "bill_to_address=[]\n",
    "ship_to_names=[]\n",
    "ship_to_address=[]\n",
    "\n",
    "for i in shippinngDeets:\n",
    "    proc=giveshipping(i)\n",
    "    bill_to_names.append(proc[0])\n",
    "    bill_to_address.append(proc[1])\n",
    "    ship_to_names.append(proc[2])\n",
    "    ship_to_address.append(proc[3])"
   ]
  },
  {
   "cell_type": "code",
   "execution_count": 259,
   "id": "073a0bc7-36f8-4b83-a361-16f02750c0d3",
   "metadata": {},
   "outputs": [],
   "source": [
    "def undobbleSpace(x):\n",
    "    y=x\n",
    "    while '  ' in y:\n",
    "        y=y.replace('  ',' ')\n",
    "    return(y)\n",
    "\n",
    "def findKwCon(kw,doc,sensibility=3):\n",
    "    counter=0\n",
    "    for i in doc:\n",
    "        dst=textdistance.damerau_levenshtein.distance(kw,i)\n",
    "        if dst<sensibility:\n",
    "            return(counter)\n",
    "        counter+=1\n",
    "        \n",
    "def beforeThirdSpace(x):\n",
    "    spaces=[i.start() for i in re.finditer(r\" \",x)]\n",
    "    if len(spaces)>=3:\n",
    "        return(x[0:spaces[2]])\n",
    "    else:\n",
    "        return(x)"
   ]
  },
  {
   "cell_type": "code",
   "execution_count": 260,
   "id": "f772f20f-692a-4b33-9cd7-385053daf06a",
   "metadata": {},
   "outputs": [],
   "source": [
    "kw5='QUANTITY CODE NO. DESCRIPTION PRICE'\n",
    "kw6='ACCOUNTING CHARGE NO.'"
   ]
  },
  {
   "cell_type": "code",
   "execution_count": 261,
   "id": "cc9f1fa1-0169-4508-8b09-795505fe1790",
   "metadata": {},
   "outputs": [],
   "source": [
    "def startitem(doc):\n",
    "    connected=[undobbleSpace(' '.join(i[0:])) for i in doc]\n",
    "    pi=findKwCon(kw5,connected,3)+1\n",
    "    connected=[beforeThirdSpace(i) for i in connected]\n",
    "    pf=findKwCon(kw6,connected,3)-1\n",
    "    connected=doc[pi:pf]\n",
    "    count1=0\n",
    "    found=False\n",
    "    for i in connected:\n",
    "        if found:\n",
    "            break\n",
    "        count2=0\n",
    "        for j in i:\n",
    "            if j.replace(',','').replace('.','').isnumeric():\n",
    "                found=True\n",
    "                break\n",
    "            count2+=1\n",
    "        count1+=1\n",
    "    if found:\n",
    "        number=connected[count1-1][count2]\n",
    "        del connected[count1-1][count2]\n",
    "    else:\n",
    "        number=-1\n",
    "    found=False\n",
    "    count1=0\n",
    "    for i in connected:\n",
    "        if found:\n",
    "            break\n",
    "        count2=0\n",
    "        for j in i:\n",
    "            if '$' in j:\n",
    "                found=True\n",
    "                break\n",
    "            count2+=1\n",
    "        count1+=1\n",
    "    if found:\n",
    "        price=connected[count1-1][count2]\n",
    "        del connected[count1-1][count2]\n",
    "    else:\n",
    "        price=-1\n",
    "    desc=[' '.join(i) for i in connected]\n",
    "    desc=undobbleSpace(' '.join(desc))\n",
    "    return(number,price,desc)"
   ]
  },
  {
   "cell_type": "code",
   "execution_count": 262,
   "id": "5f8ccd9c-b5a9-4d49-acf4-4fee1a410357",
   "metadata": {},
   "outputs": [
    {
     "data": {
      "text/plain": [
       "('6,500',\n",
       " '$1.45 each',\n",
       " ' Keyrings to be used in connection with the PALL MALL Quality Collection Self-Liquidating Promotion. Keyrings, as per sample submitted and approved; Gold Finish, engraved and color filled in red PALL MALL. Keyrings are to be packaged in a Cardboard Gift Box. This Purchase Order is subject to and acceptance hereof expressly limited to the terms and conditions on the face and reverse side hereof and on the Specification Sheets. attached hereto and expressly made a part hereof.')"
      ]
     },
     "execution_count": 262,
     "metadata": {},
     "output_type": "execute_result"
    }
   ],
   "source": [
    "startitem(docs[0])"
   ]
  },
  {
   "cell_type": "code",
   "execution_count": null,
   "id": "346c35ee-2222-470a-9f50-ae1d22f9ee4b",
   "metadata": {},
   "outputs": [],
   "source": []
  }
 ],
 "metadata": {
  "kernelspec": {
   "display_name": "bowtiedos",
   "language": "python",
   "name": "bowtiedos"
  },
  "language_info": {
   "codemirror_mode": {
    "name": "ipython",
    "version": 3
   },
   "file_extension": ".py",
   "mimetype": "text/x-python",
   "name": "python",
   "nbconvert_exporter": "python",
   "pygments_lexer": "ipython3",
   "version": "3.7.13"
  }
 },
 "nbformat": 4,
 "nbformat_minor": 5
}
