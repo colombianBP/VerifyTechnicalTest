{
 "cells": [
  {
   "cell_type": "code",
   "execution_count": 1,
   "id": "e1778e38-4b11-4a6e-a69d-7d4ee3c3cbc6",
   "metadata": {
    "tags": []
   },
   "outputs": [],
   "source": [
    "import re\n",
    "import os\n",
    "import sys\n",
    "import json\n",
    "import pickle\n",
    "import zipfile\n",
    "import warnings\n",
    "import textdistance\n",
    "import numpy as np\n",
    "import pandas as pd\n",
    "from veryfi import Client\n",
    "from itertools import chain"
   ]
  },
  {
   "cell_type": "code",
   "execution_count": 2,
   "id": "372ada0d-22ef-4ebf-905b-2955b5b4a54a",
   "metadata": {
    "tags": []
   },
   "outputs": [],
   "source": [
    "\n",
    "client_id = ''\n",
    "client_secret = ''\n",
    "username = ''\n",
    "api_key = ''\n",
    "\n",
    "args=[client_id,client_secret,username,api_key]\n",
    "\n"
   ]
  },
  {
   "cell_type": "code",
   "execution_count": 3,
   "id": "af3aac41-3275-4e29-b160-ae3e87c4e605",
   "metadata": {
    "tags": []
   },
   "outputs": [],
   "source": [
    "# Use default .zip file or take from args \n",
    "if len(args)==4:\n",
    "    # this line can also be changed to edit your input zip file\n",
    "    zip_file_path = 'documents_to_process.zip'\n",
    "elif len(args)==5:\n",
    "    zip_file_path = args[4]\n",
    "else:\n",
    "    raise Exception('4 or 5 arguments expected, recieved '+str(len(args)))\n",
    "\n",
    "#output file, this can also be manually changed\n",
    "outfile='out'\n",
    "\n",
    "client_id = args[0]\n",
    "client_secret = args[1]\n",
    "username = args[2]\n",
    "api_key = args[3]\n",
    "\n",
    "#check if zip file exists\n",
    "if not os.path.isfile(zip_file_path):\n",
    "    raise Exception('Zip file not found in path')\n",
    "\n",
    "veryfi_client = Client(client_id, client_secret, username, api_key)\n",
    "response = veryfi_client.process_document(zip_file_path)"
   ]
  },
  {
   "cell_type": "code",
   "execution_count": 4,
   "id": "692a7e06-bf8d-4eb5-8164-7d4bb3209fc2",
   "metadata": {
    "tags": []
   },
   "outputs": [],
   "source": [
    "# get api text responce and split by document\n",
    "docs=response['ocr_text'].split('\\x0c')\n",
    "\n",
    "counter=0\n",
    "for i in docs:\n",
    "    t=i.split('\\n')\n",
    "    t=[j.split('\\t') for j in t]\n",
    "    docs[counter]=t\n",
    "    counter+=1"
   ]
  },
  {
   "cell_type": "code",
   "execution_count": 5,
   "id": "d41ee315-be5d-466a-84d9-ec1b16e926df",
   "metadata": {},
   "outputs": [],
   "source": [
    "#with open('test/processedDocs.pkl','rb') as file:\n",
    "#    docs=pickle.load(file)"
   ]
  },
  {
   "cell_type": "code",
   "execution_count": 6,
   "id": "8728ae9d-7158-48fd-a0d5-4d160acd4a22",
   "metadata": {
    "tags": []
   },
   "outputs": [],
   "source": [
    "#sup1: Kw1 in invoice\n",
    "#sup2: name in caps and without numbers\n",
    "\n",
    "# find the location of a key-word (approximate) in a document\n",
    "# takes a string keyword, nested list of strings and an integer\n",
    "# returns an integer tuple of internal and external ositions\n",
    "def findKwLoc(kw,doc,sensibility=3):\n",
    "    pi=0\n",
    "    for i in doc:\n",
    "\n",
    "        pj=0\n",
    "        for j in i:\n",
    "            dst=textdistance.damerau_levenshtein.distance(kw,j)\n",
    "            \n",
    "            if dst<sensibility:\n",
    "                location=(pi,pj)\n",
    "                return(location)\n",
    "            pj+=1\n",
    "        pi+=1\n",
    "    \n",
    "\n",
    "#detect if a string has numbers on it\n",
    "#takes a string and returns a boolean\n",
    "def has_numbers(inputString):\n",
    "    return bool(re.search(r'\\d', inputString))\n",
    "\n",
    "#detect if a string has lowercase letters on it\n",
    "#takes a string and returns a boolean\n",
    "def has_lowercase(inputString):\n",
    "    return bool(re.search(r'[a-z]', inputString))"
   ]
  },
  {
   "cell_type": "code",
   "execution_count": 7,
   "id": "5bab2b50-41d2-438c-874a-987dfde97c99",
   "metadata": {
    "tags": []
   },
   "outputs": [],
   "source": [
    "kw1='BILLING INSTRUCTIONS MAL YOUR INVOICES IN DUPLICATE TO CONSIGNEE'\n",
    "\n",
    "# Looks for the vendor name using a subset of the document given by the keywords position\n",
    "# -1 will be used if the kw is not found, takes nested string list documents and returns\n",
    "# string ist or -1\n",
    "def give_vendor_names(docs):\n",
    "    vendor_names=[]\n",
    "    for i in docs:\n",
    "        poss=findKwLoc(kw1,i,3)\n",
    "        if poss==None:\n",
    "            vendor_names.append(-1)\n",
    "            continue\n",
    "        options=[j[0] for j in i[0:poss[0]]]\n",
    "        boli=[not (has_numbers(j) or has_lowercase(j) or j=='') for j in options]\n",
    "        options=list(np.array(options)[boli])\n",
    "        vendor_names.append(' '.join(options))\n",
    "    return(vendor_names)\n",
    "    \n",
    "    \n",
    "vendor_names=give_vendor_names(docs)"
   ]
  },
  {
   "cell_type": "code",
   "execution_count": 8,
   "id": "09c1293a-4ee9-4687-becc-6fccf0964d45",
   "metadata": {
    "tags": []
   },
   "outputs": [],
   "source": [
    "#Keywords used for limiting search of shipping and billing details\n",
    "\n",
    "kw2='AS SHOWN BELOW'\n",
    "kw3='SHIPMENT TO ARRIVE NOT LATER THAN'\n",
    "\n",
    "#sup3: Kw2 in invoice\n",
    "#sup4: Kw3 in invoice\n",
    "#sup5: \"TO:\" not in shipping details \n",
    "#sup6: shipping details has more than 3 lines\n",
    "\n",
    "# Subset the document using the keywords\n",
    "# Takes nested string list documents and returns\n",
    "# a subset\n",
    "def detailSubset(docs):\n",
    "    shippinngDeets=[]\n",
    "    for i in docs:\n",
    "        poss1=findKwLoc(kw2,i,3)\n",
    "        poss2=findKwLoc(kw3,i,3)\n",
    "        if poss1==None or poss2==None:\n",
    "            shippinngDeets.append(-1)\n",
    "            continue\n",
    "        poss1=list(poss1)\n",
    "        poss2=list(poss2)\n",
    "        if poss1==None or poss2==None:\n",
    "            shippinngDeets.append(-1)\n",
    "            continue\n",
    "        poss1[0]=poss1[0]+2\n",
    "        poss2[0]=poss2[0]-1\n",
    "        \n",
    "        shippinngDeets.append(i[poss1[0]:poss2[0]])\n",
    "        \n",
    "    # use TO: to further delimit the search\n",
    "    for i in range(len(shippinngDeets)):\n",
    "        if type(shippinngDeets[i])!=list:\n",
    "            continue\n",
    "        frst3=shippinngDeets[i][0:3]\n",
    "        frst3=[' '.join(j) for j in frst3]\n",
    "        counter=0\n",
    "        index=-1\n",
    "        for j in frst3:\n",
    "            if 'TO:' in j:\n",
    "                index=counter\n",
    "            counter+=1\n",
    "        if index==-1:\n",
    "            continue\n",
    "        [shippinngDeets[i].pop(0) for k in range(index+1)]\n",
    "    return(shippinngDeets)\n",
    "\n",
    "shippinngDeets=detailSubset(docs)"
   ]
  },
  {
   "cell_type": "code",
   "execution_count": 9,
   "id": "5ff3c3f4-c335-4eca-ac5b-9a5f01a7dfac",
   "metadata": {
    "tags": []
   },
   "outputs": [],
   "source": [
    "#sup7: Shipping details are not included if kw 'ATTACH' is included in the description\n",
    "\n",
    "kw4='ATTACH'"
   ]
  },
  {
   "cell_type": "code",
   "execution_count": 10,
   "id": "e4b3c82c-847e-45d2-8c31-74bb43dc01d1",
   "metadata": {
    "tags": []
   },
   "outputs": [],
   "source": [
    "# determine if 'ATTACH' is present document, \n",
    "# returns boolean\n",
    "def isattached(doc):\n",
    "    for i in doc:\n",
    "        for j in i:\n",
    "            if kw4 in j.upper():\n",
    "                return(True)\n",
    "    return(False)"
   ]
  },
  {
   "cell_type": "code",
   "execution_count": 11,
   "id": "4f165f20-023e-45b3-a50d-c1acfecfcf7a",
   "metadata": {
    "tags": []
   },
   "outputs": [],
   "source": [
    "#sup 8: shipping details has at least one line\n",
    "\n",
    "#Divide billing and shipping details in separate lists,\n",
    "#Takes a subset of a document as a nested list of strings\n",
    "#returns list comprised of two lists of strings and a boolean \n",
    "#indicating if 'ATTACH' was found\n",
    "\n",
    "def breakShipping(doc):\n",
    "    attached=isattached(doc)\n",
    "    counter=0\n",
    "    bills=[]\n",
    "    ships=[]\n",
    "    for i in doc:\n",
    "        if sum([len(j) for j in i])<2:\n",
    "            continue\n",
    "        \n",
    "        if '' in i:\n",
    "            bill=i[0:i.index('')]\n",
    "            ship=i[i.index(''):]\n",
    "        elif counter!=0 and not attached:\n",
    "            if len(i)%2==0:\n",
    "                bill=i[0:int(len(i)/2)]\n",
    "                ship=i[int(len(i)/2):]\n",
    "            else:\n",
    "                bill=i[0:int((len(i)-1)/2)]\n",
    "                ship=i[int((len(i)+1)/2):]\n",
    "        elif counter==0 and attached:\n",
    "            ship=i[-1]\n",
    "            bill=i[0:-1]\n",
    "        else:\n",
    "            ship=['']\n",
    "            bill=i\n",
    "        ships.append(ship)\n",
    "        bills.append(bill)\n",
    "        counter+=1\n",
    "    return([bills,ships,attached])"
   ]
  },
  {
   "cell_type": "code",
   "execution_count": 12,
   "id": "a2ab2d02-4917-4b65-9449-2916172ad2fe",
   "metadata": {
    "tags": []
   },
   "outputs": [],
   "source": [
    "#Takes a subset of a document as a nested list of strings\n",
    "#Returns a tupple with billing_name, billing_address, \n",
    "#shipping_name, shipping_adress as strings or -1 if not found\n",
    "\n",
    "def giveshipping(doc):\n",
    "    breaked=breakShipping(doc)\n",
    "    billname=' '.join(breaked[0][0])\n",
    "    billname=billname.replace('  ',' ')\n",
    "    billadd=list(chain(*breaked[0][1:]))\n",
    "    billadd=' '.join(billadd)\n",
    "    billadd=billadd.replace('  ',' ')\n",
    "    if breaked[2]:\n",
    "        shipname='ATTACHED'\n",
    "        shipadd='ATTACHED'\n",
    "    else:\n",
    "        shipname=' '.join(breaked[1][0])\n",
    "        shipname=shipname.replace('  ',' ')\n",
    "        shipadd=list(chain(*breaked[1][1:]))\n",
    "        shipadd=' '.join(shipadd)\n",
    "        shipadd=shipadd.replace('  ',' ')\n",
    "    return(billname, billadd, shipname, shipadd)"
   ]
  },
  {
   "cell_type": "code",
   "execution_count": 13,
   "id": "165ac0eb-6d36-4233-8bd8-4cf6151e8e0b",
   "metadata": {
    "tags": []
   },
   "outputs": [],
   "source": [
    "#organizes shipping and billing details in variables\n",
    "\n",
    "bill_to_names=[]\n",
    "bill_to_address=[]\n",
    "ship_to_names=[]\n",
    "ship_to_address=[]\n",
    "\n",
    "for i in shippinngDeets:\n",
    "    if i!=-1:\n",
    "        proc=giveshipping(i)\n",
    "        bill_to_names.append(proc[0])\n",
    "        bill_to_address.append(proc[1])\n",
    "        ship_to_names.append(proc[2])\n",
    "        ship_to_address.append(proc[3])\n",
    "    else:\n",
    "        bill_to_names.append(-1)\n",
    "        bill_to_address.append(-1)\n",
    "        ship_to_names.append(-1)\n",
    "        ship_to_address.append(-1)"
   ]
  },
  {
   "cell_type": "code",
   "execution_count": 14,
   "id": "890b524d-afa0-49ff-bf8b-aea28df6af12",
   "metadata": {
    "tags": []
   },
   "outputs": [],
   "source": [
    "#replaces consecutive spaces in a string with\n",
    "# a single space\n",
    "def undobbleSpace(x):\n",
    "    y=x\n",
    "    while '  ' in y:\n",
    "        y=y.replace('  ',' ')\n",
    "    return(y)"
   ]
  },
  {
   "cell_type": "code",
   "execution_count": 15,
   "id": "60973a9e-1126-47a6-b289-b385696f06a6",
   "metadata": {
    "tags": []
   },
   "outputs": [],
   "source": [
    "# find the location of a key-word (approximate) in a document\n",
    "# takes a string keyword, list of strings and an integer\n",
    "# returns an integer with the location of the keyword\n",
    "def findKwCon(kw,doc,sensibility=3):\n",
    "    counter=0\n",
    "    for i in doc:\n",
    "        dst=textdistance.damerau_levenshtein.distance(kw,i)\n",
    "        if dst<sensibility:\n",
    "            return(counter)\n",
    "        counter+=1\n",
    "    "
   ]
  },
  {
   "cell_type": "code",
   "execution_count": 16,
   "id": "7e126489-54d4-4129-b8fe-2e0435ab525c",
   "metadata": {
    "tags": []
   },
   "outputs": [],
   "source": [
    "#subsets a string if it has more than 3 spaces, returns\n",
    "# the sring unaltered otherwise\n",
    "def beforeThirdSpace(x):\n",
    "    spaces=[i.start() for i in re.finditer(r\" \",x)]\n",
    "    if len(spaces)>=3:\n",
    "        return(x[0:spaces[2]])\n",
    "    else:\n",
    "        return(x)"
   ]
  },
  {
   "cell_type": "code",
   "execution_count": 17,
   "id": "318c008e-b7b1-42df-9a80-83a46bb5f217",
   "metadata": {
    "tags": []
   },
   "outputs": [],
   "source": [
    "#kws for delimiting the position of the items information\n",
    "kw5='QUANTITY CODE NO. DESCRIPTION PRICE'\n",
    "kw6='ACCOUNTING CHARGE NO.'\n",
    "\n",
    "# extracts line items from a nested list sting document\n",
    "# returns a tuple of strings with the items name, price and\n",
    "# description; or -1 if not found\n",
    "# We assume only one item is pressent \n",
    "\n",
    "def startitem(doc):\n",
    "    # unnest the document\n",
    "    connected=[undobbleSpace(' '.join(i[0:])) for i in doc]\n",
    "    # subset the document\n",
    "    pi=findKwCon(kw5,connected,3)\n",
    "    if type(pi)!=int:\n",
    "        return(-1,-1,-1)\n",
    "    pi+=1\n",
    "    connected=[beforeThirdSpace(i) for i in connected]\n",
    "    pf=findKwCon(kw6,connected,3)\n",
    "    # return -1's if subset was unsuccessfull\n",
    "    if type(pf)!=int:\n",
    "        return(-1,-1,-1)\n",
    "    pf-=1\n",
    "    connected=doc[pi:pf]\n",
    "    count1=0\n",
    "    found=False\n",
    "    # find number and remove it from the document\n",
    "    for i in connected:\n",
    "        if found:\n",
    "            break\n",
    "        count2=0\n",
    "        for j in i:\n",
    "            if j.replace(',','').replace('.','').isnumeric():\n",
    "                found=True\n",
    "                break\n",
    "            count2+=1\n",
    "        count1+=1\n",
    "    if found:\n",
    "        number=connected[count1-1][count2]\n",
    "        del connected[count1-1][count2]\n",
    "    else:\n",
    "        number=-1\n",
    "    # find the price and remove it from the document\n",
    "    found=False\n",
    "    count1=0\n",
    "    for i in connected:\n",
    "        if found:\n",
    "            break\n",
    "        count2=0\n",
    "        for j in i:\n",
    "            if '$' in j:\n",
    "                found=True\n",
    "                break\n",
    "            count2+=1\n",
    "        count1+=1\n",
    "    if found:\n",
    "        price=connected[count1-1][count2]\n",
    "        del connected[count1-1][count2]\n",
    "    else:\n",
    "        price=-1\n",
    "    # return the rest of the document as description\n",
    "    desc=[' '.join(i) for i in connected]\n",
    "    desc=undobbleSpace(' '.join(desc))\n",
    "    return([number,price,desc])\n",
    "\n",
    "line_items=[startitem(i) for i in docs]"
   ]
  },
  {
   "cell_type": "code",
   "execution_count": 18,
   "id": "84f8a445-9e22-414b-93e6-58239ee0ed0e",
   "metadata": {
    "tags": []
   },
   "outputs": [],
   "source": [
    "# Get the file names to use them as names for the json output files\n",
    "def get_zip_file_names(zip_file_path):\n",
    "    zip = zipfile.ZipFile(zip_file_path)\n",
    "    file_name_list=zip.namelist()\n",
    "    boli=[i[0]!='_' for i in file_name_list]\n",
    "    file_name_list=list(np.array(file_name_list)[boli])\n",
    "    return(file_name_list)\n",
    "\n",
    "file_name_list=get_zip_file_names(zip_file_path)\n"
   ]
  },
  {
   "cell_type": "code",
   "execution_count": 19,
   "id": "4570d0b8-52a0-4ce5-834d-450ccb23c42e",
   "metadata": {
    "tags": []
   },
   "outputs": [],
   "source": [
    "#make output file if it doesent exist\n",
    "if not os.path.isdir(outfile):\n",
    "    os.mkdir(outfile)"
   ]
  },
  {
   "cell_type": "code",
   "execution_count": null,
   "id": "4facd3ff-e0d7-4baf-837a-df1eee27c960",
   "metadata": {
    "tags": []
   },
   "outputs": [],
   "source": [
    "# Write output in json format, skips it if there are more -1's\n",
    "# than the tolerance parameter; the original filename if presenved\n",
    "# and text after the last . is changed for 'json'; '.json' is added\n",
    "# if no . is found\n",
    "def writeResults(tolerance=4):\n",
    "    \n",
    "    for i in range(len(file_name_list)):\n",
    "        dicti={'vendor_name':vendor_names[i],'bill_to_name':bill_to_names[i],\n",
    "               'bill_to_address':bill_to_address[i],'ship_to_name':ship_to_names[i],\n",
    "               'ship_to_address':ship_to_address[i],\n",
    "               'line_items':{'quantity':line_items[i][0],'description':line_items[i][1],\n",
    "                            'price':line_items[i][2]}}\n",
    "        cadena=list(dicti.values())\n",
    "        cadena=cadena[0:5]+list(cadena[5].values())\n",
    "        boli=sum([j==-1 for j in cadena])\n",
    "        if boli>tolerance:\n",
    "            warn='Warning:file format of file '+file_name_list[i]+' was not recognized and skipped'\n",
    "            warnings.warn(warn)\n",
    "            continue\n",
    "        if not '.' in file_name_list[i]:\n",
    "            filename=file_name_list[i]+'.json'\n",
    "        else:\n",
    "            filename=file_name_list[i][0:file_name_list[i].rfind('.')-1]+'.json'\n",
    "        with(open(os.path.join(outfile,filename),'w') as file):\n",
    "            json.dump(dicti,file)\n",
    "        \n",
    "        if len(file_name_list)!=len(vendor_names):\n",
    "            warnings.warning('Warning: one or more of your files contains more than one page, please correct.')\n",
    "            \n",
    "writeResults(4)"
   ]
  }
 ],
 "metadata": {
  "kernelspec": {
   "display_name": "Python 3 (ipykernel)",
   "language": "python",
   "name": "python3"
  },
  "language_info": {
   "codemirror_mode": {
    "name": "ipython",
    "version": 3
   },
   "file_extension": ".py",
   "mimetype": "text/x-python",
   "name": "python",
   "nbconvert_exporter": "python",
   "pygments_lexer": "ipython3",
   "version": "3.9.17"
  }
 },
 "nbformat": 4,
 "nbformat_minor": 5
}
