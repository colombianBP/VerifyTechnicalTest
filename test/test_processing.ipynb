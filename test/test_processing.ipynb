{
 "cells": [
  {
   "cell_type": "code",
   "execution_count": 1,
   "id": "417d8683-73e3-415d-930b-03d1f4df6e84",
   "metadata": {},
   "outputs": [],
   "source": [
    "import pickle as pk\n",
    "import os\n",
    "os.chdir('../')"
   ]
  },
  {
   "cell_type": "code",
   "execution_count": 2,
   "id": "5e589127-fd15-479e-afdd-d722b3a172f0",
   "metadata": {},
   "outputs": [],
   "source": [
    "from veryfiProcess import mypackage\n",
    "creds=['','','','']"
   ]
  },
  {
   "cell_type": "code",
   "execution_count": null,
   "id": "b10a98f1-ec00-4839-b70f-4f719e1ace7e",
   "metadata": {},
   "outputs": [],
   "source": [
    "with \n",
    "def test_"
   ]
  },
  {
   "cell_type": "code",
   "execution_count": null,
   "id": "f7eec76a-e037-4e39-a297-dee9ba682eb4",
   "metadata": {},
   "outputs": [],
   "source": []
  },
  {
   "cell_type": "code",
   "execution_count": null,
   "id": "e1085207-8330-4ab1-8524-d5ee749a165c",
   "metadata": {},
   "outputs": [],
   "source": []
  },
  {
   "cell_type": "code",
   "execution_count": 3,
   "id": "ee04f72a-f496-4dd9-8d53-c031362103a1",
   "metadata": {},
   "outputs": [
    {
     "name": "stderr",
     "output_type": "stream",
     "text": [
      "D:\\OneDrive - CGIAR\\VerifyTechnicalTest\\veryfiProcess\\mypackage.py:385: UserWarning: Warning:file format of file DerechosGradoMaster.pdf was not recognized and skipped\n",
      "  warnings.warn(warn)\n",
      "D:\\OneDrive - CGIAR\\VerifyTechnicalTest\\veryfiProcess\\mypackage.py:385: UserWarning: Warning:file format of file matricula2023-1.pdf was not recognized and skipped\n",
      "  warnings.warn(warn)\n"
     ]
    }
   ],
   "source": [
    "veryfy=mypackage.credentials(creds[0],creds[1],creds[2],creds[3])\n",
    "veryfy.write_output('test/documents_to_processT.zip','test/out')"
   ]
  },
  {
   "cell_type": "code",
   "execution_count": null,
   "id": "d652015b-664b-4fcc-b934-dfb82783f304",
   "metadata": {},
   "outputs": [],
   "source": []
  }
 ],
 "metadata": {
  "kernelspec": {
   "display_name": "Python 3 (ipykernel)",
   "language": "python",
   "name": "python3"
  },
  "language_info": {
   "codemirror_mode": {
    "name": "ipython",
    "version": 3
   },
   "file_extension": ".py",
   "mimetype": "text/x-python",
   "name": "python",
   "nbconvert_exporter": "python",
   "pygments_lexer": "ipython3",
   "version": "3.9.17"
  }
 },
 "nbformat": 4,
 "nbformat_minor": 5
}
